{
 "cells": [
  {
   "cell_type": "markdown",
   "metadata": {},
   "source": [
    "# Generate a color histogram lookup for weighting classifier"
   ]
  },
  {
   "cell_type": "code",
   "execution_count": 1,
   "metadata": {},
   "outputs": [
    {
     "name": "stderr",
     "output_type": "stream",
     "text": [
      "/home/ec2-user/anaconda3/envs/pytorch_p36/lib/python3.6/site-packages/h5py/__init__.py:36: FutureWarning: Conversion of the second argument of issubdtype from `float` to `np.floating` is deprecated. In future, it will be treated as `np.float64 == np.dtype(float).type`.\n",
      "  from ._conv import register_converters as _register_converters\n"
     ]
    }
   ],
   "source": [
    "%matplotlib inline\n",
    "%load_ext Cython\n",
    "import matplotlib.pyplot as plt\n",
    "from skimage.color import rgb2lab, lab2rgb, rgb2gray, xyz2lab\n",
    "import numpy as np\n",
    "from tqdm import tqdm_notebook as tqdm\n",
    "from dataset import ColorizeHD5Dataset\n",
    "from scipy.ndimage.filters import gaussian_filter\n",
    "\n",
    "from dataset import (torch_softmax2image, hd52numpy, hd52numpy, lab2pil, img2hdf5, ab2bin, \n",
    "    bin2ab, ColorizeHD5Dataset,CategoricalColorizeDataSet, idx_to_lab)\n",
    "from torchvision import transforms\n",
    "import torch.utils.data as data"
   ]
  },
  {
   "cell_type": "code",
   "execution_count": 2,
   "metadata": {},
   "outputs": [],
   "source": [
    "lab_bins = np.load('lab_idx.npy')"
   ]
  },
  {
   "cell_type": "markdown",
   "metadata": {},
   "source": [
    "- 1, populate a 3d histogram from images\n",
    "- 2, padd the edges with nearest bins\n",
    "- 3, smooth them out with a gaussian\n",
    "- 4, show resulting distribution"
   ]
  },
  {
   "cell_type": "code",
   "execution_count": 3,
   "metadata": {},
   "outputs": [
    {
     "data": {
      "text/plain": [
       "(4, 22, 2, 22)"
      ]
     },
     "execution_count": 3,
     "metadata": {},
     "output_type": "execute_result"
    }
   ],
   "source": [
    "a_min, a_max = lab_bins[:,0].min(), lab_bins[:,0].max()\n",
    "b_min, b_max = lab_bins[:,1].min(), lab_bins[:,1].max()\n",
    "a_min, a_max, b_min, b_max"
   ]
  },
  {
   "cell_type": "code",
   "execution_count": 4,
   "metadata": {},
   "outputs": [],
   "source": [
    "histo_grid = np.zeros((24,24))"
   ]
  },
  {
   "cell_type": "code",
   "execution_count": 5,
   "metadata": {},
   "outputs": [],
   "source": [
    "ds_train = CategoricalColorizeDataSet('/home/ec2-user/data/train',  transform=transforms.Compose([\n",
    "                            #transforms.RandomRotation(15, expand=False),\n",
    "                            transforms.Resize(299),\n",
    "                            transforms.CenterCrop(256),\n",
    "                            #transforms.RandomHorizontalFlip(),\n",
    "                           ]))\n",
    "train_loader = data.DataLoader(ds_train,batch_size=16, shuffle=True, num_workers=8)"
   ]
  },
  {
   "cell_type": "code",
   "execution_count": 6,
   "metadata": {},
   "outputs": [
    {
     "data": {
      "text/plain": [
       "(157, (157,))"
      ]
     },
     "execution_count": 6,
     "metadata": {},
     "output_type": "execute_result"
    }
   ],
   "source": [
    "inputs, labels = next(iter(train_loader))\n",
    "lbls = np.uint8(labels.numpy())\n",
    "idxs, counts = np.unique(lbls, return_counts=True)\n",
    "idxs.shape[0], counts.shape"
   ]
  },
  {
   "cell_type": "code",
   "execution_count": 7,
   "metadata": {},
   "outputs": [
    {
     "data": {
      "text/plain": [
       "(262,)"
      ]
     },
     "execution_count": 7,
     "metadata": {},
     "output_type": "execute_result"
    }
   ],
   "source": [
    "total_counts = np.zeros((262,))\n",
    "total_counts.shape"
   ]
  },
  {
   "cell_type": "code",
   "execution_count": 8,
   "metadata": {},
   "outputs": [
    {
     "data": {
      "application/vnd.jupyter.widget-view+json": {
       "model_id": "f39bb734593c4988ac3beab9daa59b1c",
       "version_major": 2,
       "version_minor": 0
      },
      "text/plain": [
       "HBox(children=(IntProgress(value=0, max=18102), HTML(value='')))"
      ]
     },
     "metadata": {},
     "output_type": "display_data"
    },
    {
     "name": "stdout",
     "output_type": "stream",
     "text": [
      "\n"
     ]
    }
   ],
   "source": [
    "total_counts = np.zeros((262,))\n",
    "for inputs, labels in tqdm(train_loader):\n",
    "    lbls = np.uint8(labels.numpy())\n",
    "    idxs, counts = np.unique(lbls, return_counts=True)\n",
    "    for i in range(idxs.shape[0]):\n",
    "        total_counts[idxs[i]] +=  counts[i]"
   ]
  },
  {
   "cell_type": "code",
   "execution_count": 10,
   "metadata": {},
   "outputs": [],
   "source": [
    "np.save('total_counts.npy', total_counts )"
   ]
  },
  {
   "cell_type": "code",
   "execution_count": 11,
   "metadata": {},
   "outputs": [],
   "source": [
    "total_counts/=total_counts.sum()\n",
    "for i in range(262):\n",
    "    a,b = lab_bins[i,0], lab_bins[i,1]\n",
    "    histo_grid[a,b] = total_counts[i]"
   ]
  },
  {
   "cell_type": "code",
   "execution_count": 17,
   "metadata": {},
   "outputs": [
    {
     "data": {
      "image/png": "[encoded data removed]",
      "text/plain": [
       "<Figure size 432x288 with 1 Axes>"
      ]
     },
     "metadata": {},
     "output_type": "display_data"
    }
   ],
   "source": [
    "blurred = gaussian_filter(histo_grid, sigma=0.5)\n",
    "plt.imshow(blurred, cmap='hot', interpolation='nearest')\n",
    "plt.show()"
   ]
  },
  {
   "cell_type": "code",
   "execution_count": 18,
   "metadata": {},
   "outputs": [],
   "source": [
    "weighting = 1.0/( 0.5 * blurred + 0.5/262)"
   ]
  },
  {
   "cell_type": "code",
   "execution_count": 19,
   "metadata": {},
   "outputs": [],
   "source": [
    "za = np.ones((24, 24))\n",
    "za[lab_bins[:,0], lab_bins[:,1]] = 0\n",
    "mask = za > 0\n",
    "weighting[mask] = 0"
   ]
  },
  {
   "cell_type": "code",
   "execution_count": 53,
   "metadata": {},
   "outputs": [
    {
     "data": {
      "text/plain": [
       "9975.687440262182"
      ]
     },
     "execution_count": 53,
     "metadata": {},
     "output_type": "execute_result"
    }
   ],
   "source": [
    "weighting.max()"
   ]
  },
  {
   "cell_type": "code",
   "execution_count": 54,
   "metadata": {},
   "outputs": [
    {
     "data": {
      "text/plain": [
       "392.77914998263583"
      ]
     },
     "execution_count": 54,
     "metadata": {},
     "output_type": "execute_result"
    }
   ],
   "source": [
    "weighting.max()/weighting[weighting > 0].min()"
   ]
  },
  {
   "cell_type": "code",
   "execution_count": 55,
   "metadata": {},
   "outputs": [],
   "source": [
    "final_weights = weighting/weighting.sum()"
   ]
  },
  {
   "cell_type": "code",
   "execution_count": 56,
   "metadata": {},
   "outputs": [],
   "source": [
    "weighting_factor = np.zeros((262,))\n",
    "for i in range(lab_bins.shape[0]):\n",
    "    a = lab_bins[i,0]\n",
    "    b = lab_bins[i,1]\n",
    "    weighting_factor[i] = final_weights[a,b]"
   ]
  },
  {
   "cell_type": "code",
   "execution_count": 57,
   "metadata": {},
   "outputs": [],
   "source": [
    "np.save('color_weights_extreme.npy', weighting_factor)"
   ]
  },
  {
   "cell_type": "code",
   "execution_count": null,
   "metadata": {},
   "outputs": [],
   "source": []
  }
 ],
 "metadata": {
  "kernelspec": {
   "display_name": "Python 3",
   "language": "python",
   "name": "python3"
  },
  "language_info": {
   "codemirror_mode": {
    "name": "ipython",
    "version": 3
   },
   "file_extension": ".py",
   "mimetype": "text/x-python",
   "name": "python",
   "nbconvert_exporter": "python",
   "pygments_lexer": "ipython3",
   "version": "3.6.5"
  }
 },
 "nbformat": 4,
 "nbformat_minor": 2
}
