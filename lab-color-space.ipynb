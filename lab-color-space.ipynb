{
 "cells": [
  {
   "cell_type": "code",
   "execution_count": 3,
   "metadata": {},
   "outputs": [],
   "source": [
    "%matplotlib inline\n",
    "import matplotlib.pyplot as plt\n",
    "from skimage.color import rgb2lab, lab2rgb, rgb2gray, xyz2lab\n",
    "import numpy as np\n",
    "from dataset import ColorizeHD5Dataset"
   ]
  },
  {
   "cell_type": "markdown",
   "metadata": {},
   "source": [
    "We want to discretize the LAB color space into bins of 10x10"
   ]
  },
  {
   "cell_type": "code",
   "execution_count": 4,
   "metadata": {},
   "outputs": [],
   "source": [
    "# we create a fake 256 by 256*256 image which gives us all possible combinations of RGB\n",
    "lookup = np.zeros((256, 256*256, 3), dtype=np.uint8)\n",
    "for r in range(256):\n",
    "    for g in range(256):\n",
    "        for b in range(256):\n",
    "            lookup[r, g*256+b, :] = np.array([r, g, b], dtype=np.uint8) \n",
    "    "
   ]
  },
  {
   "cell_type": "code",
   "execution_count": 5,
   "metadata": {},
   "outputs": [
    {
     "data": {
      "text/plain": [
       "array([0, 1, 0], dtype=uint8)"
      ]
     },
     "execution_count": 5,
     "metadata": {},
     "output_type": "execute_result"
    }
   ],
   "source": [
    "lookup[0,256,:]"
   ]
  },
  {
   "cell_type": "code",
   "execution_count": 6,
   "metadata": {},
   "outputs": [],
   "source": [
    "lookup_lab = rgb2lab(lookup)"
   ]
  },
  {
   "cell_type": "code",
   "execution_count": 7,
   "metadata": {},
   "outputs": [
    {
     "data": {
      "text/plain": [
       "-86.18302974439501"
      ]
     },
     "execution_count": 7,
     "metadata": {},
     "output_type": "execute_result"
    }
   ],
   "source": [
    "lookup_lab[:,:,1].min()"
   ]
  },
  {
   "cell_type": "code",
   "execution_count": 8,
   "metadata": {},
   "outputs": [],
   "source": [
    "stride = len(range(-128, 128, 10))\n",
    "bins = np.zeros((stride, stride))\n",
    "lookup_a = lookup_lab[:,:,1].reshape(-1)\n",
    "lookup_b = lookup_lab[:,:,2].reshape(-1)\n",
    "lookup_a_idx = np.uint8(np.floor((lookup_a + 128) / 10))\n",
    "lookup_b_idx =  np.uint8(np.floor((lookup_b + 128) / 10))\n",
    "bins[lookup_a_idx, lookup_b_idx] = 1"
   ]
  },
  {
   "cell_type": "code",
   "execution_count": 9,
   "metadata": {},
   "outputs": [],
   "source": [
    "stacked_idx = np.stack((lookup_a_idx, lookup_b_idx))\n",
    "uniq_idx = np.unique(stacked_idx, axis=1).T\n",
    "np.save('lab_idx.npy', uniq_idx)"
   ]
  },
  {
   "cell_type": "markdown",
   "metadata": {},
   "source": [
    "## Everything above is checkpointed"
   ]
  },
  {
   "cell_type": "code",
   "execution_count": 165,
   "metadata": {},
   "outputs": [],
   "source": [
    "idx_to_bin_idx = np.load('lab_idx.npy')"
   ]
  },
  {
   "cell_type": "code",
   "execution_count": 166,
   "metadata": {},
   "outputs": [],
   "source": [
    "idx_to_lab = np.double(idx_to_bin_idx) * 10 - 128 + 5"
   ]
  },
  {
   "cell_type": "code",
   "execution_count": 167,
   "metadata": {},
   "outputs": [],
   "source": [
    "bin_idx_to_idx = np.zeros((stride, stride))\n",
    "bin_idx_to_idx[idx_to_bin_idx[:,0], idx_to_bin_idx[:,1]] = np.arange(idx_to_bin_idx.shape[0]) \n",
    "bin_idx_to_idx = np.uint8(bin_idx_to_idx)"
   ]
  },
  {
   "cell_type": "code",
   "execution_count": 168,
   "metadata": {},
   "outputs": [
    {
     "data": {
      "text/plain": [
       "<matplotlib.image.AxesImage at 0x7fb1d9abea20>"
      ]
     },
     "execution_count": 168,
     "metadata": {},
     "output_type": "execute_result"
    },
    {
     "data": {
      "image/png": "[encoded data removed]",
      "text/plain": [
       "<Figure size 432x288 with 1 Axes>"
      ]
     },
     "metadata": {},
     "output_type": "display_data"
    }
   ],
   "source": [
    "plt.imshow(bin_idx_to_idx > 0)"
   ]
  },
  {
   "cell_type": "code",
   "execution_count": 169,
   "metadata": {},
   "outputs": [],
   "source": [
    "def encode_lab_to_histo(ab):\n",
    "    assert ab.shape[2] == 2, 'need shape (H x W X 2)'\n",
    "    a_bin_idx = np.uint8((ab[:,:,0] + 128) / 10)\n",
    "    b_bin_idx = np.uint8((ab[:,:,1] + 128) / 10)\n",
    "    return bin_idx_to_idx[a_bin_idx, b_bin_idx]\n",
    "    \n",
    "def decode_histo_to_ab(idx):\n",
    "    assert len(idx.shape) == 2, 'need shape (H x W)'\n",
    "    return idx_to_lab[idx, :]\n",
    "\n"
   ]
  },
  {
   "cell_type": "code",
   "execution_count": 170,
   "metadata": {},
   "outputs": [],
   "source": [
    "a = np.array([[1,1,2], [1,1,3]])"
   ]
  },
  {
   "cell_type": "code",
   "execution_count": 171,
   "metadata": {},
   "outputs": [],
   "source": [
    "a[[0,1],[0,1]] = [6,7]"
   ]
  },
  {
   "cell_type": "code",
   "execution_count": 172,
   "metadata": {},
   "outputs": [
    {
     "data": {
      "text/plain": [
       "array([[6, 1, 2],\n",
       "       [1, 7, 3]])"
      ]
     },
     "execution_count": 172,
     "metadata": {},
     "output_type": "execute_result"
    }
   ],
   "source": [
    "a"
   ]
  },
  {
   "cell_type": "code",
   "execution_count": 173,
   "metadata": {},
   "outputs": [
    {
     "data": {
      "text/plain": [
       "(3, 3, 2)"
      ]
     },
     "execution_count": 173,
     "metadata": {},
     "output_type": "execute_result"
    }
   ],
   "source": [
    "idx_to_lab[[[1,2,3],[3,4,5], [5,6,7]],:].shape"
   ]
  },
  {
   "cell_type": "code",
   "execution_count": 174,
   "metadata": {},
   "outputs": [],
   "source": [
    "img = ds_train.get_pil(0)\n",
    "rgb_hwc = np.asarray(img)\n",
    "lab_hwc = rgb2lab(rgb_hwc)"
   ]
  },
  {
   "cell_type": "code",
   "execution_count": 175,
   "metadata": {},
   "outputs": [],
   "source": [
    "idx_img = encode_lab_to_histo(lab_hwc[:,:,1:])"
   ]
  },
  {
   "cell_type": "code",
   "execution_count": 176,
   "metadata": {},
   "outputs": [],
   "source": [
    "decoded_img = decode_histo_to_ab(idx_img)"
   ]
  },
  {
   "cell_type": "code",
   "execution_count": 177,
   "metadata": {},
   "outputs": [
    {
     "data": {
      "text/plain": [
       "array([[ 64,  64,  64, ..., 100, 100, 100],\n",
       "       [ 64,  64,  64, ..., 100, 100, 100],\n",
       "       [ 64,  64,  64, ..., 100, 100, 100],\n",
       "       ...,\n",
       "       [ 63,  63,  63, ...,  65,  65,  65],\n",
       "       [ 63,  63,  63, ...,  65,  65,  65],\n",
       "       [ 63,  63,  63, ...,  65,  65,  65]], dtype=uint8)"
      ]
     },
     "execution_count": 177,
     "metadata": {},
     "output_type": "execute_result"
    }
   ],
   "source": [
    "idx_img"
   ]
  },
  {
   "cell_type": "code",
   "execution_count": 178,
   "metadata": {},
   "outputs": [
    {
     "data": {
      "text/plain": [
       "4.999989146124371"
      ]
     },
     "execution_count": 178,
     "metadata": {},
     "output_type": "execute_result"
    }
   ],
   "source": [
    "np.abs(lab_hwc[:,:,1:] - decoded_img).max()"
   ]
  },
  {
   "cell_type": "markdown",
   "metadata": {},
   "source": [
    "### Wrap it in a class"
   ]
  },
  {
   "cell_type": "code",
   "execution_count": null,
   "metadata": {},
   "outputs": [],
   "source": []
  }
 ],
 "metadata": {
  "kernelspec": {
   "display_name": "conda_pytorch_p36",
   "language": "python",
   "name": "conda_pytorch_p36"
  },
  "language_info": {
   "codemirror_mode": {
    "name": "ipython",
    "version": 3
   },
   "file_extension": ".py",
   "mimetype": "text/x-python",
   "name": "python",
   "nbconvert_exporter": "python",
   "pygments_lexer": "ipython3",
   "version": "3.6.5"
  }
 },
 "nbformat": 4,
 "nbformat_minor": 2
}
